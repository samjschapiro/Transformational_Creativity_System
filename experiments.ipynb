{
 "cells": [
  {
   "cell_type": "markdown",
   "id": "6ce4ebe9",
   "metadata": {},
   "source": [
    "# Generate Conceptual Space"
   ]
  },
  {
   "cell_type": "code",
   "execution_count": null,
   "id": "870aaa5c",
   "metadata": {},
   "outputs": [],
   "source": []
  }
 ],
 "metadata": {
  "kernelspec": {
   "display_name": "Python 3",
   "language": "python",
   "name": "python3"
  },
  "language_info": {
   "codemirror_mode": {
    "name": "ipython",
    "version": 3
   },
   "file_extension": ".py",
   "mimetype": "text/x-python",
   "name": "python",
   "nbconvert_exporter": "python",
   "pygments_lexer": "ipython3",
   "version": "3.9.6"
  }
 },
 "nbformat": 4,
 "nbformat_minor": 5
}
